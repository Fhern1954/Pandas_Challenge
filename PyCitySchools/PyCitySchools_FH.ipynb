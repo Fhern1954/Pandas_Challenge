{
 "cells": [
  {
   "cell_type": "markdown",
   "metadata": {},
   "source": [
    "### Note\n",
    "* Instructions have been included for each segment. You do not have to follow them exactly, but they are included to help you think through the steps."
   ]
  },
  {
   "cell_type": "code",
   "execution_count": 1,
   "metadata": {},
   "outputs": [],
   "source": [
    "# Dependencies and Setup\n",
    "import pandas as pd\n",
    "\n",
    "# File to Load (Remember to Change These)\n",
    "school_data_to_load = \"Resources/schools_complete.csv\"\n",
    "student_data_to_load = \"Resources/students_complete.csv\"\n",
    "\n",
    "# Read School and Student Data File and store into Pandas DataFrames\n",
    "school_data = pd.read_csv(school_data_to_load)\n",
    "student_data = pd.read_csv(student_data_to_load)\n",
    "\n",
    "# Combine the data into a single dataset.  \n",
    "school_data_complete = pd.merge(student_data, school_data, how=\"left\", on=[\"school_name\", \"school_name\"])"
   ]
  },
  {
   "cell_type": "markdown",
   "metadata": {},
   "source": [
    "## District Summary\n",
    "\n",
    "* Calculate the total number of schools\n",
    "\n",
    "* Calculate the total number of students\n",
    "\n",
    "* Calculate the total budget\n",
    "\n",
    "* Calculate the average math score \n",
    "\n",
    "* Calculate the average reading score\n",
    "\n",
    "* Calculate the percentage of students with a passing math score (70 or greater)\n",
    "\n",
    "* Calculate the percentage of students with a passing reading score (70 or greater)\n",
    "\n",
    "* Calculate the percentage of students who passed math **and** reading (% Overall Passing)\n",
    "\n",
    "* Create a dataframe to hold the above results\n",
    "\n",
    "* Optional: give the displayed data cleaner formatting"
   ]
  },
  {
   "cell_type": "code",
   "execution_count": 2,
   "metadata": {},
   "outputs": [],
   "source": [
    "#Calculate totals for number of schools, number of students, and budget.\n",
    "total_schools = len(school_data)\n",
    "total_students=school_data[\"size\"].sum()\n",
    "total_budget=school_data[\"budget\"].sum()"
   ]
  },
  {
   "cell_type": "code",
   "execution_count": 3,
   "metadata": {},
   "outputs": [],
   "source": [
    "#Calculate average math and reading scores.\n",
    "avg_math_score=school_data_complete[\"math_score\"].mean()\n",
    "avg_reading_score=school_data_complete[\"reading_score\"].mean()"
   ]
  },
  {
   "cell_type": "code",
   "execution_count": 4,
   "metadata": {},
   "outputs": [],
   "source": [
    "#Calculate percent passing Math, Reading, and Overall\n",
    "pass_math=school_data_complete.loc[school_data_complete[\"math_score\"]>=70] \n",
    "perc_pass_math=(len(pass_math)/total_students) * 100\n",
    "\n",
    "pass_reading=school_data_complete.loc[school_data_complete[\"reading_score\"]>=70]\n",
    "perc_pass_reading=(len(pass_reading)/total_students) * 100\n",
    "\n",
    "pass_overall=pass_math.loc[pass_math[\"reading_score\"]>=70]\n",
    "perc_pass_overall=(len(pass_overall)/total_students) * 100"
   ]
  },
  {
   "cell_type": "code",
   "execution_count": null,
   "metadata": {},
   "outputs": [],
   "source": [
    "#pass_overall=school_data_complete.loc[school_data_complete[\"math_score\"]>=70 & school_data_complete[\"reading_score\"]>=70]"
   ]
  },
  {
   "cell_type": "code",
   "execution_count": 5,
   "metadata": {},
   "outputs": [
    {
     "data": {
      "text/html": [
       "<style  type=\"text/css\" >\n",
       "</style><table id=\"T_52cae798_446a_11eb_80d7_ac12032f50cf\" ><thead>    <tr>        <th class=\"blank level0\" ></th>        <th class=\"col_heading level0 col0\" >Total Schools</th>        <th class=\"col_heading level0 col1\" >Total Students</th>        <th class=\"col_heading level0 col2\" >Total Budget</th>        <th class=\"col_heading level0 col3\" >Average Math Score</th>        <th class=\"col_heading level0 col4\" >Average Reading Score</th>        <th class=\"col_heading level0 col5\" >% Passing Math</th>        <th class=\"col_heading level0 col6\" >% Passing Reading</th>        <th class=\"col_heading level0 col7\" >% Overall Passing</th>    </tr></thead><tbody>\n",
       "                <tr>\n",
       "                        <th id=\"T_52cae798_446a_11eb_80d7_ac12032f50cflevel0_row0\" class=\"row_heading level0 row0\" >0</th>\n",
       "                        <td id=\"T_52cae798_446a_11eb_80d7_ac12032f50cfrow0_col0\" class=\"data row0 col0\" >15</td>\n",
       "                        <td id=\"T_52cae798_446a_11eb_80d7_ac12032f50cfrow0_col1\" class=\"data row0 col1\" >39,170</td>\n",
       "                        <td id=\"T_52cae798_446a_11eb_80d7_ac12032f50cfrow0_col2\" class=\"data row0 col2\" >$24,649,428</td>\n",
       "                        <td id=\"T_52cae798_446a_11eb_80d7_ac12032f50cfrow0_col3\" class=\"data row0 col3\" >78.985371</td>\n",
       "                        <td id=\"T_52cae798_446a_11eb_80d7_ac12032f50cfrow0_col4\" class=\"data row0 col4\" >81.877840</td>\n",
       "                        <td id=\"T_52cae798_446a_11eb_80d7_ac12032f50cfrow0_col5\" class=\"data row0 col5\" >74.980853</td>\n",
       "                        <td id=\"T_52cae798_446a_11eb_80d7_ac12032f50cfrow0_col6\" class=\"data row0 col6\" >85.805463</td>\n",
       "                        <td id=\"T_52cae798_446a_11eb_80d7_ac12032f50cfrow0_col7\" class=\"data row0 col7\" >65.172326</td>\n",
       "            </tr>\n",
       "    </tbody></table>"
      ],
      "text/plain": [
       "<pandas.io.formats.style.Styler at 0x15667049978>"
      ]
     },
     "execution_count": 5,
     "metadata": {},
     "output_type": "execute_result"
    }
   ],
   "source": [
    "dist_sum=[{\"Total Schools\": total_schools,\n",
    "         \"Total Students\": total_students,\n",
    "         \"Total Budget\": total_budget,\n",
    "         \"Average Math Score\": avg_math_score,\n",
    "         \"Average Reading Score\": avg_reading_score,\n",
    "         \"% Passing Math\": perc_pass_math,\n",
    "         \"% Passing Reading\": perc_pass_reading,\n",
    "         \"% Overall Passing\": perc_pass_overall\n",
    "         }\n",
    "         ]\n",
    "dist_sum_df=pd.DataFrame(dist_sum)\n",
    "dist_sum_df.style.format({\"Total Students\": \"{:,.0f}\", \"Total Budget\": \"${:,.0f}\"})"
   ]
  },
  {
   "cell_type": "markdown",
   "metadata": {},
   "source": [
    "## School Summary"
   ]
  },
  {
   "cell_type": "markdown",
   "metadata": {},
   "source": [
    "* Create an overview table that summarizes key metrics about each school, including:\n",
    "  * School Name\n",
    "  * School Type\n",
    "  * Total Students\n",
    "  * Total School Budget\n",
    "  * Per Student Budget\n",
    "  * Average Math Score\n",
    "  * Average Reading Score\n",
    "  * % Passing Math\n",
    "  * % Passing Reading\n",
    "  * % Overall Passing (The percentage of students that passed math **and** reading.)\n",
    "  \n",
    "* Create a dataframe to hold the above results"
   ]
  },
  {
   "cell_type": "code",
   "execution_count": 7,
   "metadata": {},
   "outputs": [],
   "source": [
    "#Calculate Per Student Budget\n",
    "per_student_budget=school_data_complete['budget']/school_data_complete['size']\n",
    "school_data_complete['Per Student Budget']=per_student_budget"
   ]
  },
  {
   "cell_type": "code",
   "execution_count": 9,
   "metadata": {},
   "outputs": [],
   "source": [
    "#Group data by school name\n",
    "grouped_school_df=school_data_complete.groupby(['school_name'])"
   ]
  },
  {
   "cell_type": "code",
   "execution_count": null,
   "metadata": {},
   "outputs": [],
   "source": [
    "#Check data types for eac series\n",
    "#grouped_school_df.dtypes"
   ]
  },
  {
   "cell_type": "code",
   "execution_count": 10,
   "metadata": {},
   "outputs": [],
   "source": [
    "#Calculate total number of students and identify budget and per student budget amounts for each school\n",
    "total_students=grouped_school_df['school_name'].count()\n",
    "total_school_budget=grouped_school_df['budget'].min()\n",
    "per_student_budget=grouped_school_df['Per Student Budget'].min()"
   ]
  },
  {
   "cell_type": "code",
   "execution_count": 11,
   "metadata": {},
   "outputs": [],
   "source": [
    "#Calculate average math and reading scores\n",
    "avg_math=grouped_school_df['math_score'].mean()\n",
    "avg_reading=grouped_school_df['reading_score'].mean()"
   ]
  },
  {
   "cell_type": "code",
   "execution_count": 12,
   "metadata": {},
   "outputs": [],
   "source": [
    "#Create list of school types\n",
    "schooltype =['District', 'Charter', 'District', 'District', 'Charter', 'District', 'Charter', 'District', 'District', 'Charter', 'District', 'Charter', 'Charter', 'Charter', 'Charter']"
   ]
  },
  {
   "cell_type": "code",
   "execution_count": 13,
   "metadata": {
    "scrolled": true
   },
   "outputs": [],
   "source": [
    "#Calculate percent passing Math, Reading, and Overall\n",
    "pm_school=pass_math[\"school_name\"].value_counts()\n",
    "perc_pm_school=(pm_school/total_students) * 100\n",
    "\n",
    "pr_school=pass_reading['school_name'].value_counts()\n",
    "perc_pr_school=(pr_school/total_students) * 100\n",
    "\n",
    "po_school=pass_overall['school_name'].value_counts()\n",
    "perc_po_school=(po_school/total_students) * 100"
   ]
  },
  {
   "cell_type": "code",
   "execution_count": 14,
   "metadata": {},
   "outputs": [
    {
     "data": {
      "text/html": [
       "<style  type=\"text/css\" >\n",
       "</style><table id=\"T_859df6b4_446a_11eb_a32b_ac12032f50cf\" ><thead>    <tr>        <th class=\"blank level0\" ></th>        <th class=\"col_heading level0 col0\" >School Type</th>        <th class=\"col_heading level0 col1\" >Total Students</th>        <th class=\"col_heading level0 col2\" >Total School Budget</th>        <th class=\"col_heading level0 col3\" >Per Student Budget</th>        <th class=\"col_heading level0 col4\" >Average Math Score</th>        <th class=\"col_heading level0 col5\" >Average Reading Score</th>        <th class=\"col_heading level0 col6\" >% Passing Math</th>        <th class=\"col_heading level0 col7\" >% Passing Reading</th>        <th class=\"col_heading level0 col8\" >% Overall Passing</th>    </tr>    <tr>        <th class=\"index_name level0\" >school_name</th>        <th class=\"blank\" ></th>        <th class=\"blank\" ></th>        <th class=\"blank\" ></th>        <th class=\"blank\" ></th>        <th class=\"blank\" ></th>        <th class=\"blank\" ></th>        <th class=\"blank\" ></th>        <th class=\"blank\" ></th>        <th class=\"blank\" ></th>    </tr></thead><tbody>\n",
       "                <tr>\n",
       "                        <th id=\"T_859df6b4_446a_11eb_a32b_ac12032f50cflevel0_row0\" class=\"row_heading level0 row0\" >Bailey High School</th>\n",
       "                        <td id=\"T_859df6b4_446a_11eb_a32b_ac12032f50cfrow0_col0\" class=\"data row0 col0\" >District</td>\n",
       "                        <td id=\"T_859df6b4_446a_11eb_a32b_ac12032f50cfrow0_col1\" class=\"data row0 col1\" >4,976</td>\n",
       "                        <td id=\"T_859df6b4_446a_11eb_a32b_ac12032f50cfrow0_col2\" class=\"data row0 col2\" >$3,124,928</td>\n",
       "                        <td id=\"T_859df6b4_446a_11eb_a32b_ac12032f50cfrow0_col3\" class=\"data row0 col3\" >$628</td>\n",
       "                        <td id=\"T_859df6b4_446a_11eb_a32b_ac12032f50cfrow0_col4\" class=\"data row0 col4\" >77.048432</td>\n",
       "                        <td id=\"T_859df6b4_446a_11eb_a32b_ac12032f50cfrow0_col5\" class=\"data row0 col5\" >81.033963</td>\n",
       "                        <td id=\"T_859df6b4_446a_11eb_a32b_ac12032f50cfrow0_col6\" class=\"data row0 col6\" >66.680064</td>\n",
       "                        <td id=\"T_859df6b4_446a_11eb_a32b_ac12032f50cfrow0_col7\" class=\"data row0 col7\" >81.933280</td>\n",
       "                        <td id=\"T_859df6b4_446a_11eb_a32b_ac12032f50cfrow0_col8\" class=\"data row0 col8\" >54.642283</td>\n",
       "            </tr>\n",
       "            <tr>\n",
       "                        <th id=\"T_859df6b4_446a_11eb_a32b_ac12032f50cflevel0_row1\" class=\"row_heading level0 row1\" >Cabrera High School</th>\n",
       "                        <td id=\"T_859df6b4_446a_11eb_a32b_ac12032f50cfrow1_col0\" class=\"data row1 col0\" >Charter</td>\n",
       "                        <td id=\"T_859df6b4_446a_11eb_a32b_ac12032f50cfrow1_col1\" class=\"data row1 col1\" >1,858</td>\n",
       "                        <td id=\"T_859df6b4_446a_11eb_a32b_ac12032f50cfrow1_col2\" class=\"data row1 col2\" >$1,081,356</td>\n",
       "                        <td id=\"T_859df6b4_446a_11eb_a32b_ac12032f50cfrow1_col3\" class=\"data row1 col3\" >$582</td>\n",
       "                        <td id=\"T_859df6b4_446a_11eb_a32b_ac12032f50cfrow1_col4\" class=\"data row1 col4\" >83.061895</td>\n",
       "                        <td id=\"T_859df6b4_446a_11eb_a32b_ac12032f50cfrow1_col5\" class=\"data row1 col5\" >83.975780</td>\n",
       "                        <td id=\"T_859df6b4_446a_11eb_a32b_ac12032f50cfrow1_col6\" class=\"data row1 col6\" >94.133477</td>\n",
       "                        <td id=\"T_859df6b4_446a_11eb_a32b_ac12032f50cfrow1_col7\" class=\"data row1 col7\" >97.039828</td>\n",
       "                        <td id=\"T_859df6b4_446a_11eb_a32b_ac12032f50cfrow1_col8\" class=\"data row1 col8\" >91.334769</td>\n",
       "            </tr>\n",
       "            <tr>\n",
       "                        <th id=\"T_859df6b4_446a_11eb_a32b_ac12032f50cflevel0_row2\" class=\"row_heading level0 row2\" >Figueroa High School</th>\n",
       "                        <td id=\"T_859df6b4_446a_11eb_a32b_ac12032f50cfrow2_col0\" class=\"data row2 col0\" >District</td>\n",
       "                        <td id=\"T_859df6b4_446a_11eb_a32b_ac12032f50cfrow2_col1\" class=\"data row2 col1\" >2,949</td>\n",
       "                        <td id=\"T_859df6b4_446a_11eb_a32b_ac12032f50cfrow2_col2\" class=\"data row2 col2\" >$1,884,411</td>\n",
       "                        <td id=\"T_859df6b4_446a_11eb_a32b_ac12032f50cfrow2_col3\" class=\"data row2 col3\" >$639</td>\n",
       "                        <td id=\"T_859df6b4_446a_11eb_a32b_ac12032f50cfrow2_col4\" class=\"data row2 col4\" >76.711767</td>\n",
       "                        <td id=\"T_859df6b4_446a_11eb_a32b_ac12032f50cfrow2_col5\" class=\"data row2 col5\" >81.158020</td>\n",
       "                        <td id=\"T_859df6b4_446a_11eb_a32b_ac12032f50cfrow2_col6\" class=\"data row2 col6\" >65.988471</td>\n",
       "                        <td id=\"T_859df6b4_446a_11eb_a32b_ac12032f50cfrow2_col7\" class=\"data row2 col7\" >80.739234</td>\n",
       "                        <td id=\"T_859df6b4_446a_11eb_a32b_ac12032f50cfrow2_col8\" class=\"data row2 col8\" >53.204476</td>\n",
       "            </tr>\n",
       "            <tr>\n",
       "                        <th id=\"T_859df6b4_446a_11eb_a32b_ac12032f50cflevel0_row3\" class=\"row_heading level0 row3\" >Ford High School</th>\n",
       "                        <td id=\"T_859df6b4_446a_11eb_a32b_ac12032f50cfrow3_col0\" class=\"data row3 col0\" >District</td>\n",
       "                        <td id=\"T_859df6b4_446a_11eb_a32b_ac12032f50cfrow3_col1\" class=\"data row3 col1\" >2,739</td>\n",
       "                        <td id=\"T_859df6b4_446a_11eb_a32b_ac12032f50cfrow3_col2\" class=\"data row3 col2\" >$1,763,916</td>\n",
       "                        <td id=\"T_859df6b4_446a_11eb_a32b_ac12032f50cfrow3_col3\" class=\"data row3 col3\" >$644</td>\n",
       "                        <td id=\"T_859df6b4_446a_11eb_a32b_ac12032f50cfrow3_col4\" class=\"data row3 col4\" >77.102592</td>\n",
       "                        <td id=\"T_859df6b4_446a_11eb_a32b_ac12032f50cfrow3_col5\" class=\"data row3 col5\" >80.746258</td>\n",
       "                        <td id=\"T_859df6b4_446a_11eb_a32b_ac12032f50cfrow3_col6\" class=\"data row3 col6\" >68.309602</td>\n",
       "                        <td id=\"T_859df6b4_446a_11eb_a32b_ac12032f50cfrow3_col7\" class=\"data row3 col7\" >79.299014</td>\n",
       "                        <td id=\"T_859df6b4_446a_11eb_a32b_ac12032f50cfrow3_col8\" class=\"data row3 col8\" >54.289887</td>\n",
       "            </tr>\n",
       "            <tr>\n",
       "                        <th id=\"T_859df6b4_446a_11eb_a32b_ac12032f50cflevel0_row4\" class=\"row_heading level0 row4\" >Griffin High School</th>\n",
       "                        <td id=\"T_859df6b4_446a_11eb_a32b_ac12032f50cfrow4_col0\" class=\"data row4 col0\" >Charter</td>\n",
       "                        <td id=\"T_859df6b4_446a_11eb_a32b_ac12032f50cfrow4_col1\" class=\"data row4 col1\" >1,468</td>\n",
       "                        <td id=\"T_859df6b4_446a_11eb_a32b_ac12032f50cfrow4_col2\" class=\"data row4 col2\" >$917,500</td>\n",
       "                        <td id=\"T_859df6b4_446a_11eb_a32b_ac12032f50cfrow4_col3\" class=\"data row4 col3\" >$625</td>\n",
       "                        <td id=\"T_859df6b4_446a_11eb_a32b_ac12032f50cfrow4_col4\" class=\"data row4 col4\" >83.351499</td>\n",
       "                        <td id=\"T_859df6b4_446a_11eb_a32b_ac12032f50cfrow4_col5\" class=\"data row4 col5\" >83.816757</td>\n",
       "                        <td id=\"T_859df6b4_446a_11eb_a32b_ac12032f50cfrow4_col6\" class=\"data row4 col6\" >93.392371</td>\n",
       "                        <td id=\"T_859df6b4_446a_11eb_a32b_ac12032f50cfrow4_col7\" class=\"data row4 col7\" >97.138965</td>\n",
       "                        <td id=\"T_859df6b4_446a_11eb_a32b_ac12032f50cfrow4_col8\" class=\"data row4 col8\" >90.599455</td>\n",
       "            </tr>\n",
       "            <tr>\n",
       "                        <th id=\"T_859df6b4_446a_11eb_a32b_ac12032f50cflevel0_row5\" class=\"row_heading level0 row5\" >Hernandez High School</th>\n",
       "                        <td id=\"T_859df6b4_446a_11eb_a32b_ac12032f50cfrow5_col0\" class=\"data row5 col0\" >District</td>\n",
       "                        <td id=\"T_859df6b4_446a_11eb_a32b_ac12032f50cfrow5_col1\" class=\"data row5 col1\" >4,635</td>\n",
       "                        <td id=\"T_859df6b4_446a_11eb_a32b_ac12032f50cfrow5_col2\" class=\"data row5 col2\" >$3,022,020</td>\n",
       "                        <td id=\"T_859df6b4_446a_11eb_a32b_ac12032f50cfrow5_col3\" class=\"data row5 col3\" >$652</td>\n",
       "                        <td id=\"T_859df6b4_446a_11eb_a32b_ac12032f50cfrow5_col4\" class=\"data row5 col4\" >77.289752</td>\n",
       "                        <td id=\"T_859df6b4_446a_11eb_a32b_ac12032f50cfrow5_col5\" class=\"data row5 col5\" >80.934412</td>\n",
       "                        <td id=\"T_859df6b4_446a_11eb_a32b_ac12032f50cfrow5_col6\" class=\"data row5 col6\" >66.752967</td>\n",
       "                        <td id=\"T_859df6b4_446a_11eb_a32b_ac12032f50cfrow5_col7\" class=\"data row5 col7\" >80.862999</td>\n",
       "                        <td id=\"T_859df6b4_446a_11eb_a32b_ac12032f50cfrow5_col8\" class=\"data row5 col8\" >53.527508</td>\n",
       "            </tr>\n",
       "            <tr>\n",
       "                        <th id=\"T_859df6b4_446a_11eb_a32b_ac12032f50cflevel0_row6\" class=\"row_heading level0 row6\" >Holden High School</th>\n",
       "                        <td id=\"T_859df6b4_446a_11eb_a32b_ac12032f50cfrow6_col0\" class=\"data row6 col0\" >Charter</td>\n",
       "                        <td id=\"T_859df6b4_446a_11eb_a32b_ac12032f50cfrow6_col1\" class=\"data row6 col1\" >427</td>\n",
       "                        <td id=\"T_859df6b4_446a_11eb_a32b_ac12032f50cfrow6_col2\" class=\"data row6 col2\" >$248,087</td>\n",
       "                        <td id=\"T_859df6b4_446a_11eb_a32b_ac12032f50cfrow6_col3\" class=\"data row6 col3\" >$581</td>\n",
       "                        <td id=\"T_859df6b4_446a_11eb_a32b_ac12032f50cfrow6_col4\" class=\"data row6 col4\" >83.803279</td>\n",
       "                        <td id=\"T_859df6b4_446a_11eb_a32b_ac12032f50cfrow6_col5\" class=\"data row6 col5\" >83.814988</td>\n",
       "                        <td id=\"T_859df6b4_446a_11eb_a32b_ac12032f50cfrow6_col6\" class=\"data row6 col6\" >92.505855</td>\n",
       "                        <td id=\"T_859df6b4_446a_11eb_a32b_ac12032f50cfrow6_col7\" class=\"data row6 col7\" >96.252927</td>\n",
       "                        <td id=\"T_859df6b4_446a_11eb_a32b_ac12032f50cfrow6_col8\" class=\"data row6 col8\" >89.227166</td>\n",
       "            </tr>\n",
       "            <tr>\n",
       "                        <th id=\"T_859df6b4_446a_11eb_a32b_ac12032f50cflevel0_row7\" class=\"row_heading level0 row7\" >Huang High School</th>\n",
       "                        <td id=\"T_859df6b4_446a_11eb_a32b_ac12032f50cfrow7_col0\" class=\"data row7 col0\" >District</td>\n",
       "                        <td id=\"T_859df6b4_446a_11eb_a32b_ac12032f50cfrow7_col1\" class=\"data row7 col1\" >2,917</td>\n",
       "                        <td id=\"T_859df6b4_446a_11eb_a32b_ac12032f50cfrow7_col2\" class=\"data row7 col2\" >$1,910,635</td>\n",
       "                        <td id=\"T_859df6b4_446a_11eb_a32b_ac12032f50cfrow7_col3\" class=\"data row7 col3\" >$655</td>\n",
       "                        <td id=\"T_859df6b4_446a_11eb_a32b_ac12032f50cfrow7_col4\" class=\"data row7 col4\" >76.629414</td>\n",
       "                        <td id=\"T_859df6b4_446a_11eb_a32b_ac12032f50cfrow7_col5\" class=\"data row7 col5\" >81.182722</td>\n",
       "                        <td id=\"T_859df6b4_446a_11eb_a32b_ac12032f50cfrow7_col6\" class=\"data row7 col6\" >65.683922</td>\n",
       "                        <td id=\"T_859df6b4_446a_11eb_a32b_ac12032f50cfrow7_col7\" class=\"data row7 col7\" >81.316421</td>\n",
       "                        <td id=\"T_859df6b4_446a_11eb_a32b_ac12032f50cfrow7_col8\" class=\"data row7 col8\" >53.513884</td>\n",
       "            </tr>\n",
       "            <tr>\n",
       "                        <th id=\"T_859df6b4_446a_11eb_a32b_ac12032f50cflevel0_row8\" class=\"row_heading level0 row8\" >Johnson High School</th>\n",
       "                        <td id=\"T_859df6b4_446a_11eb_a32b_ac12032f50cfrow8_col0\" class=\"data row8 col0\" >District</td>\n",
       "                        <td id=\"T_859df6b4_446a_11eb_a32b_ac12032f50cfrow8_col1\" class=\"data row8 col1\" >4,761</td>\n",
       "                        <td id=\"T_859df6b4_446a_11eb_a32b_ac12032f50cfrow8_col2\" class=\"data row8 col2\" >$3,094,650</td>\n",
       "                        <td id=\"T_859df6b4_446a_11eb_a32b_ac12032f50cfrow8_col3\" class=\"data row8 col3\" >$650</td>\n",
       "                        <td id=\"T_859df6b4_446a_11eb_a32b_ac12032f50cfrow8_col4\" class=\"data row8 col4\" >77.072464</td>\n",
       "                        <td id=\"T_859df6b4_446a_11eb_a32b_ac12032f50cfrow8_col5\" class=\"data row8 col5\" >80.966394</td>\n",
       "                        <td id=\"T_859df6b4_446a_11eb_a32b_ac12032f50cfrow8_col6\" class=\"data row8 col6\" >66.057551</td>\n",
       "                        <td id=\"T_859df6b4_446a_11eb_a32b_ac12032f50cfrow8_col7\" class=\"data row8 col7\" >81.222432</td>\n",
       "                        <td id=\"T_859df6b4_446a_11eb_a32b_ac12032f50cfrow8_col8\" class=\"data row8 col8\" >53.539172</td>\n",
       "            </tr>\n",
       "            <tr>\n",
       "                        <th id=\"T_859df6b4_446a_11eb_a32b_ac12032f50cflevel0_row9\" class=\"row_heading level0 row9\" >Pena High School</th>\n",
       "                        <td id=\"T_859df6b4_446a_11eb_a32b_ac12032f50cfrow9_col0\" class=\"data row9 col0\" >Charter</td>\n",
       "                        <td id=\"T_859df6b4_446a_11eb_a32b_ac12032f50cfrow9_col1\" class=\"data row9 col1\" >962</td>\n",
       "                        <td id=\"T_859df6b4_446a_11eb_a32b_ac12032f50cfrow9_col2\" class=\"data row9 col2\" >$585,858</td>\n",
       "                        <td id=\"T_859df6b4_446a_11eb_a32b_ac12032f50cfrow9_col3\" class=\"data row9 col3\" >$609</td>\n",
       "                        <td id=\"T_859df6b4_446a_11eb_a32b_ac12032f50cfrow9_col4\" class=\"data row9 col4\" >83.839917</td>\n",
       "                        <td id=\"T_859df6b4_446a_11eb_a32b_ac12032f50cfrow9_col5\" class=\"data row9 col5\" >84.044699</td>\n",
       "                        <td id=\"T_859df6b4_446a_11eb_a32b_ac12032f50cfrow9_col6\" class=\"data row9 col6\" >94.594595</td>\n",
       "                        <td id=\"T_859df6b4_446a_11eb_a32b_ac12032f50cfrow9_col7\" class=\"data row9 col7\" >95.945946</td>\n",
       "                        <td id=\"T_859df6b4_446a_11eb_a32b_ac12032f50cfrow9_col8\" class=\"data row9 col8\" >90.540541</td>\n",
       "            </tr>\n",
       "            <tr>\n",
       "                        <th id=\"T_859df6b4_446a_11eb_a32b_ac12032f50cflevel0_row10\" class=\"row_heading level0 row10\" >Rodriguez High School</th>\n",
       "                        <td id=\"T_859df6b4_446a_11eb_a32b_ac12032f50cfrow10_col0\" class=\"data row10 col0\" >District</td>\n",
       "                        <td id=\"T_859df6b4_446a_11eb_a32b_ac12032f50cfrow10_col1\" class=\"data row10 col1\" >3,999</td>\n",
       "                        <td id=\"T_859df6b4_446a_11eb_a32b_ac12032f50cfrow10_col2\" class=\"data row10 col2\" >$2,547,363</td>\n",
       "                        <td id=\"T_859df6b4_446a_11eb_a32b_ac12032f50cfrow10_col3\" class=\"data row10 col3\" >$637</td>\n",
       "                        <td id=\"T_859df6b4_446a_11eb_a32b_ac12032f50cfrow10_col4\" class=\"data row10 col4\" >76.842711</td>\n",
       "                        <td id=\"T_859df6b4_446a_11eb_a32b_ac12032f50cfrow10_col5\" class=\"data row10 col5\" >80.744686</td>\n",
       "                        <td id=\"T_859df6b4_446a_11eb_a32b_ac12032f50cfrow10_col6\" class=\"data row10 col6\" >66.366592</td>\n",
       "                        <td id=\"T_859df6b4_446a_11eb_a32b_ac12032f50cfrow10_col7\" class=\"data row10 col7\" >80.220055</td>\n",
       "                        <td id=\"T_859df6b4_446a_11eb_a32b_ac12032f50cfrow10_col8\" class=\"data row10 col8\" >52.988247</td>\n",
       "            </tr>\n",
       "            <tr>\n",
       "                        <th id=\"T_859df6b4_446a_11eb_a32b_ac12032f50cflevel0_row11\" class=\"row_heading level0 row11\" >Shelton High School</th>\n",
       "                        <td id=\"T_859df6b4_446a_11eb_a32b_ac12032f50cfrow11_col0\" class=\"data row11 col0\" >Charter</td>\n",
       "                        <td id=\"T_859df6b4_446a_11eb_a32b_ac12032f50cfrow11_col1\" class=\"data row11 col1\" >1,761</td>\n",
       "                        <td id=\"T_859df6b4_446a_11eb_a32b_ac12032f50cfrow11_col2\" class=\"data row11 col2\" >$1,056,600</td>\n",
       "                        <td id=\"T_859df6b4_446a_11eb_a32b_ac12032f50cfrow11_col3\" class=\"data row11 col3\" >$600</td>\n",
       "                        <td id=\"T_859df6b4_446a_11eb_a32b_ac12032f50cfrow11_col4\" class=\"data row11 col4\" >83.359455</td>\n",
       "                        <td id=\"T_859df6b4_446a_11eb_a32b_ac12032f50cfrow11_col5\" class=\"data row11 col5\" >83.725724</td>\n",
       "                        <td id=\"T_859df6b4_446a_11eb_a32b_ac12032f50cfrow11_col6\" class=\"data row11 col6\" >93.867121</td>\n",
       "                        <td id=\"T_859df6b4_446a_11eb_a32b_ac12032f50cfrow11_col7\" class=\"data row11 col7\" >95.854628</td>\n",
       "                        <td id=\"T_859df6b4_446a_11eb_a32b_ac12032f50cfrow11_col8\" class=\"data row11 col8\" >89.892107</td>\n",
       "            </tr>\n",
       "            <tr>\n",
       "                        <th id=\"T_859df6b4_446a_11eb_a32b_ac12032f50cflevel0_row12\" class=\"row_heading level0 row12\" >Thomas High School</th>\n",
       "                        <td id=\"T_859df6b4_446a_11eb_a32b_ac12032f50cfrow12_col0\" class=\"data row12 col0\" >Charter</td>\n",
       "                        <td id=\"T_859df6b4_446a_11eb_a32b_ac12032f50cfrow12_col1\" class=\"data row12 col1\" >1,635</td>\n",
       "                        <td id=\"T_859df6b4_446a_11eb_a32b_ac12032f50cfrow12_col2\" class=\"data row12 col2\" >$1,043,130</td>\n",
       "                        <td id=\"T_859df6b4_446a_11eb_a32b_ac12032f50cfrow12_col3\" class=\"data row12 col3\" >$638</td>\n",
       "                        <td id=\"T_859df6b4_446a_11eb_a32b_ac12032f50cfrow12_col4\" class=\"data row12 col4\" >83.418349</td>\n",
       "                        <td id=\"T_859df6b4_446a_11eb_a32b_ac12032f50cfrow12_col5\" class=\"data row12 col5\" >83.848930</td>\n",
       "                        <td id=\"T_859df6b4_446a_11eb_a32b_ac12032f50cfrow12_col6\" class=\"data row12 col6\" >93.272171</td>\n",
       "                        <td id=\"T_859df6b4_446a_11eb_a32b_ac12032f50cfrow12_col7\" class=\"data row12 col7\" >97.308869</td>\n",
       "                        <td id=\"T_859df6b4_446a_11eb_a32b_ac12032f50cfrow12_col8\" class=\"data row12 col8\" >90.948012</td>\n",
       "            </tr>\n",
       "            <tr>\n",
       "                        <th id=\"T_859df6b4_446a_11eb_a32b_ac12032f50cflevel0_row13\" class=\"row_heading level0 row13\" >Wilson High School</th>\n",
       "                        <td id=\"T_859df6b4_446a_11eb_a32b_ac12032f50cfrow13_col0\" class=\"data row13 col0\" >Charter</td>\n",
       "                        <td id=\"T_859df6b4_446a_11eb_a32b_ac12032f50cfrow13_col1\" class=\"data row13 col1\" >2,283</td>\n",
       "                        <td id=\"T_859df6b4_446a_11eb_a32b_ac12032f50cfrow13_col2\" class=\"data row13 col2\" >$1,319,574</td>\n",
       "                        <td id=\"T_859df6b4_446a_11eb_a32b_ac12032f50cfrow13_col3\" class=\"data row13 col3\" >$578</td>\n",
       "                        <td id=\"T_859df6b4_446a_11eb_a32b_ac12032f50cfrow13_col4\" class=\"data row13 col4\" >83.274201</td>\n",
       "                        <td id=\"T_859df6b4_446a_11eb_a32b_ac12032f50cfrow13_col5\" class=\"data row13 col5\" >83.989488</td>\n",
       "                        <td id=\"T_859df6b4_446a_11eb_a32b_ac12032f50cfrow13_col6\" class=\"data row13 col6\" >93.867718</td>\n",
       "                        <td id=\"T_859df6b4_446a_11eb_a32b_ac12032f50cfrow13_col7\" class=\"data row13 col7\" >96.539641</td>\n",
       "                        <td id=\"T_859df6b4_446a_11eb_a32b_ac12032f50cfrow13_col8\" class=\"data row13 col8\" >90.582567</td>\n",
       "            </tr>\n",
       "            <tr>\n",
       "                        <th id=\"T_859df6b4_446a_11eb_a32b_ac12032f50cflevel0_row14\" class=\"row_heading level0 row14\" >Wright High School</th>\n",
       "                        <td id=\"T_859df6b4_446a_11eb_a32b_ac12032f50cfrow14_col0\" class=\"data row14 col0\" >Charter</td>\n",
       "                        <td id=\"T_859df6b4_446a_11eb_a32b_ac12032f50cfrow14_col1\" class=\"data row14 col1\" >1,800</td>\n",
       "                        <td id=\"T_859df6b4_446a_11eb_a32b_ac12032f50cfrow14_col2\" class=\"data row14 col2\" >$1,049,400</td>\n",
       "                        <td id=\"T_859df6b4_446a_11eb_a32b_ac12032f50cfrow14_col3\" class=\"data row14 col3\" >$583</td>\n",
       "                        <td id=\"T_859df6b4_446a_11eb_a32b_ac12032f50cfrow14_col4\" class=\"data row14 col4\" >83.682222</td>\n",
       "                        <td id=\"T_859df6b4_446a_11eb_a32b_ac12032f50cfrow14_col5\" class=\"data row14 col5\" >83.955000</td>\n",
       "                        <td id=\"T_859df6b4_446a_11eb_a32b_ac12032f50cfrow14_col6\" class=\"data row14 col6\" >93.333333</td>\n",
       "                        <td id=\"T_859df6b4_446a_11eb_a32b_ac12032f50cfrow14_col7\" class=\"data row14 col7\" >96.611111</td>\n",
       "                        <td id=\"T_859df6b4_446a_11eb_a32b_ac12032f50cfrow14_col8\" class=\"data row14 col8\" >90.333333</td>\n",
       "            </tr>\n",
       "    </tbody></table>"
      ],
      "text/plain": [
       "<pandas.io.formats.style.Styler at 0x1566839ff28>"
      ]
     },
     "execution_count": 14,
     "metadata": {},
     "output_type": "execute_result"
    }
   ],
   "source": [
    "school_summary_df=pd.DataFrame({'School Type': schooltype,\n",
    "                               'Total Students': total_students,\n",
    "                               'Total School Budget': total_school_budget,\n",
    "                               'Per Student Budget': per_student_budget,\n",
    "                               'Average Math Score': avg_math,\n",
    "                               'Average Reading Score': avg_reading,\n",
    "                               '% Passing Math': perc_pm_school,\n",
    "                               '% Passing Reading': perc_pr_school,\n",
    "                               '% Overall Passing': perc_po_school})\n",
    "school_summary_df\n",
    "school_summary_df.style.format({\"Total Students\": \"{:,.0f}\", \"Total School Budget\": \"${:,.0f}\", \"Per Student Budget\": \"${:,.0f}\"})"
   ]
  },
  {
   "cell_type": "markdown",
   "metadata": {},
   "source": [
    "## Top Performing Schools (By % Overall Passing)"
   ]
  },
  {
   "cell_type": "markdown",
   "metadata": {},
   "source": [
    "* Sort and display the top five performing schools by % overall passing."
   ]
  },
  {
   "cell_type": "code",
   "execution_count": 15,
   "metadata": {
    "scrolled": true
   },
   "outputs": [
    {
     "data": {
      "text/html": [
       "<style  type=\"text/css\" >\n",
       "</style><table id=\"T_ab787a38_446a_11eb_bdff_ac12032f50cf\" ><thead>    <tr>        <th class=\"blank level0\" ></th>        <th class=\"col_heading level0 col0\" >School Type</th>        <th class=\"col_heading level0 col1\" >Total Students</th>        <th class=\"col_heading level0 col2\" >Total School Budget</th>        <th class=\"col_heading level0 col3\" >Per Student Budget</th>        <th class=\"col_heading level0 col4\" >Average Math Score</th>        <th class=\"col_heading level0 col5\" >Average Reading Score</th>        <th class=\"col_heading level0 col6\" >% Passing Math</th>        <th class=\"col_heading level0 col7\" >% Passing Reading</th>        <th class=\"col_heading level0 col8\" >% Overall Passing</th>    </tr>    <tr>        <th class=\"index_name level0\" >school_name</th>        <th class=\"blank\" ></th>        <th class=\"blank\" ></th>        <th class=\"blank\" ></th>        <th class=\"blank\" ></th>        <th class=\"blank\" ></th>        <th class=\"blank\" ></th>        <th class=\"blank\" ></th>        <th class=\"blank\" ></th>        <th class=\"blank\" ></th>    </tr></thead><tbody>\n",
       "                <tr>\n",
       "                        <th id=\"T_ab787a38_446a_11eb_bdff_ac12032f50cflevel0_row0\" class=\"row_heading level0 row0\" >Cabrera High School</th>\n",
       "                        <td id=\"T_ab787a38_446a_11eb_bdff_ac12032f50cfrow0_col0\" class=\"data row0 col0\" >Charter</td>\n",
       "                        <td id=\"T_ab787a38_446a_11eb_bdff_ac12032f50cfrow0_col1\" class=\"data row0 col1\" >1,858</td>\n",
       "                        <td id=\"T_ab787a38_446a_11eb_bdff_ac12032f50cfrow0_col2\" class=\"data row0 col2\" >$1,081,356</td>\n",
       "                        <td id=\"T_ab787a38_446a_11eb_bdff_ac12032f50cfrow0_col3\" class=\"data row0 col3\" >$582</td>\n",
       "                        <td id=\"T_ab787a38_446a_11eb_bdff_ac12032f50cfrow0_col4\" class=\"data row0 col4\" >83.061895</td>\n",
       "                        <td id=\"T_ab787a38_446a_11eb_bdff_ac12032f50cfrow0_col5\" class=\"data row0 col5\" >83.975780</td>\n",
       "                        <td id=\"T_ab787a38_446a_11eb_bdff_ac12032f50cfrow0_col6\" class=\"data row0 col6\" >94.133477</td>\n",
       "                        <td id=\"T_ab787a38_446a_11eb_bdff_ac12032f50cfrow0_col7\" class=\"data row0 col7\" >97.039828</td>\n",
       "                        <td id=\"T_ab787a38_446a_11eb_bdff_ac12032f50cfrow0_col8\" class=\"data row0 col8\" >91.334769</td>\n",
       "            </tr>\n",
       "            <tr>\n",
       "                        <th id=\"T_ab787a38_446a_11eb_bdff_ac12032f50cflevel0_row1\" class=\"row_heading level0 row1\" >Thomas High School</th>\n",
       "                        <td id=\"T_ab787a38_446a_11eb_bdff_ac12032f50cfrow1_col0\" class=\"data row1 col0\" >Charter</td>\n",
       "                        <td id=\"T_ab787a38_446a_11eb_bdff_ac12032f50cfrow1_col1\" class=\"data row1 col1\" >1,635</td>\n",
       "                        <td id=\"T_ab787a38_446a_11eb_bdff_ac12032f50cfrow1_col2\" class=\"data row1 col2\" >$1,043,130</td>\n",
       "                        <td id=\"T_ab787a38_446a_11eb_bdff_ac12032f50cfrow1_col3\" class=\"data row1 col3\" >$638</td>\n",
       "                        <td id=\"T_ab787a38_446a_11eb_bdff_ac12032f50cfrow1_col4\" class=\"data row1 col4\" >83.418349</td>\n",
       "                        <td id=\"T_ab787a38_446a_11eb_bdff_ac12032f50cfrow1_col5\" class=\"data row1 col5\" >83.848930</td>\n",
       "                        <td id=\"T_ab787a38_446a_11eb_bdff_ac12032f50cfrow1_col6\" class=\"data row1 col6\" >93.272171</td>\n",
       "                        <td id=\"T_ab787a38_446a_11eb_bdff_ac12032f50cfrow1_col7\" class=\"data row1 col7\" >97.308869</td>\n",
       "                        <td id=\"T_ab787a38_446a_11eb_bdff_ac12032f50cfrow1_col8\" class=\"data row1 col8\" >90.948012</td>\n",
       "            </tr>\n",
       "            <tr>\n",
       "                        <th id=\"T_ab787a38_446a_11eb_bdff_ac12032f50cflevel0_row2\" class=\"row_heading level0 row2\" >Griffin High School</th>\n",
       "                        <td id=\"T_ab787a38_446a_11eb_bdff_ac12032f50cfrow2_col0\" class=\"data row2 col0\" >Charter</td>\n",
       "                        <td id=\"T_ab787a38_446a_11eb_bdff_ac12032f50cfrow2_col1\" class=\"data row2 col1\" >1,468</td>\n",
       "                        <td id=\"T_ab787a38_446a_11eb_bdff_ac12032f50cfrow2_col2\" class=\"data row2 col2\" >$917,500</td>\n",
       "                        <td id=\"T_ab787a38_446a_11eb_bdff_ac12032f50cfrow2_col3\" class=\"data row2 col3\" >$625</td>\n",
       "                        <td id=\"T_ab787a38_446a_11eb_bdff_ac12032f50cfrow2_col4\" class=\"data row2 col4\" >83.351499</td>\n",
       "                        <td id=\"T_ab787a38_446a_11eb_bdff_ac12032f50cfrow2_col5\" class=\"data row2 col5\" >83.816757</td>\n",
       "                        <td id=\"T_ab787a38_446a_11eb_bdff_ac12032f50cfrow2_col6\" class=\"data row2 col6\" >93.392371</td>\n",
       "                        <td id=\"T_ab787a38_446a_11eb_bdff_ac12032f50cfrow2_col7\" class=\"data row2 col7\" >97.138965</td>\n",
       "                        <td id=\"T_ab787a38_446a_11eb_bdff_ac12032f50cfrow2_col8\" class=\"data row2 col8\" >90.599455</td>\n",
       "            </tr>\n",
       "            <tr>\n",
       "                        <th id=\"T_ab787a38_446a_11eb_bdff_ac12032f50cflevel0_row3\" class=\"row_heading level0 row3\" >Wilson High School</th>\n",
       "                        <td id=\"T_ab787a38_446a_11eb_bdff_ac12032f50cfrow3_col0\" class=\"data row3 col0\" >Charter</td>\n",
       "                        <td id=\"T_ab787a38_446a_11eb_bdff_ac12032f50cfrow3_col1\" class=\"data row3 col1\" >2,283</td>\n",
       "                        <td id=\"T_ab787a38_446a_11eb_bdff_ac12032f50cfrow3_col2\" class=\"data row3 col2\" >$1,319,574</td>\n",
       "                        <td id=\"T_ab787a38_446a_11eb_bdff_ac12032f50cfrow3_col3\" class=\"data row3 col3\" >$578</td>\n",
       "                        <td id=\"T_ab787a38_446a_11eb_bdff_ac12032f50cfrow3_col4\" class=\"data row3 col4\" >83.274201</td>\n",
       "                        <td id=\"T_ab787a38_446a_11eb_bdff_ac12032f50cfrow3_col5\" class=\"data row3 col5\" >83.989488</td>\n",
       "                        <td id=\"T_ab787a38_446a_11eb_bdff_ac12032f50cfrow3_col6\" class=\"data row3 col6\" >93.867718</td>\n",
       "                        <td id=\"T_ab787a38_446a_11eb_bdff_ac12032f50cfrow3_col7\" class=\"data row3 col7\" >96.539641</td>\n",
       "                        <td id=\"T_ab787a38_446a_11eb_bdff_ac12032f50cfrow3_col8\" class=\"data row3 col8\" >90.582567</td>\n",
       "            </tr>\n",
       "            <tr>\n",
       "                        <th id=\"T_ab787a38_446a_11eb_bdff_ac12032f50cflevel0_row4\" class=\"row_heading level0 row4\" >Pena High School</th>\n",
       "                        <td id=\"T_ab787a38_446a_11eb_bdff_ac12032f50cfrow4_col0\" class=\"data row4 col0\" >Charter</td>\n",
       "                        <td id=\"T_ab787a38_446a_11eb_bdff_ac12032f50cfrow4_col1\" class=\"data row4 col1\" >962</td>\n",
       "                        <td id=\"T_ab787a38_446a_11eb_bdff_ac12032f50cfrow4_col2\" class=\"data row4 col2\" >$585,858</td>\n",
       "                        <td id=\"T_ab787a38_446a_11eb_bdff_ac12032f50cfrow4_col3\" class=\"data row4 col3\" >$609</td>\n",
       "                        <td id=\"T_ab787a38_446a_11eb_bdff_ac12032f50cfrow4_col4\" class=\"data row4 col4\" >83.839917</td>\n",
       "                        <td id=\"T_ab787a38_446a_11eb_bdff_ac12032f50cfrow4_col5\" class=\"data row4 col5\" >84.044699</td>\n",
       "                        <td id=\"T_ab787a38_446a_11eb_bdff_ac12032f50cfrow4_col6\" class=\"data row4 col6\" >94.594595</td>\n",
       "                        <td id=\"T_ab787a38_446a_11eb_bdff_ac12032f50cfrow4_col7\" class=\"data row4 col7\" >95.945946</td>\n",
       "                        <td id=\"T_ab787a38_446a_11eb_bdff_ac12032f50cfrow4_col8\" class=\"data row4 col8\" >90.540541</td>\n",
       "            </tr>\n",
       "    </tbody></table>"
      ],
      "text/plain": [
       "<pandas.io.formats.style.Styler at 0x15668d50cc0>"
      ]
     },
     "execution_count": 15,
     "metadata": {},
     "output_type": "execute_result"
    }
   ],
   "source": [
    "top_schools=school_summary_df.sort_values('% Overall Passing', ascending=False)\n",
    "top_schools.head().style.format({\"Total Students\": \"{:,.0f}\", \"Total School Budget\": \"${:,.0f}\", \"Per Student Budget\": \"${:,.0f}\"})"
   ]
  },
  {
   "cell_type": "markdown",
   "metadata": {},
   "source": [
    "## Bottom Performing Schools (By % Overall Passing)"
   ]
  },
  {
   "cell_type": "markdown",
   "metadata": {},
   "source": [
    "* Sort and display the five worst-performing schools by % overall passing."
   ]
  },
  {
   "cell_type": "code",
   "execution_count": 16,
   "metadata": {},
   "outputs": [
    {
     "data": {
      "text/html": [
       "<style  type=\"text/css\" >\n",
       "</style><table id=\"T_ae54fe2c_446a_11eb_a58d_ac12032f50cf\" ><thead>    <tr>        <th class=\"blank level0\" ></th>        <th class=\"col_heading level0 col0\" >School Type</th>        <th class=\"col_heading level0 col1\" >Total Students</th>        <th class=\"col_heading level0 col2\" >Total School Budget</th>        <th class=\"col_heading level0 col3\" >Per Student Budget</th>        <th class=\"col_heading level0 col4\" >Average Math Score</th>        <th class=\"col_heading level0 col5\" >Average Reading Score</th>        <th class=\"col_heading level0 col6\" >% Passing Math</th>        <th class=\"col_heading level0 col7\" >% Passing Reading</th>        <th class=\"col_heading level0 col8\" >% Overall Passing</th>    </tr>    <tr>        <th class=\"index_name level0\" >school_name</th>        <th class=\"blank\" ></th>        <th class=\"blank\" ></th>        <th class=\"blank\" ></th>        <th class=\"blank\" ></th>        <th class=\"blank\" ></th>        <th class=\"blank\" ></th>        <th class=\"blank\" ></th>        <th class=\"blank\" ></th>        <th class=\"blank\" ></th>    </tr></thead><tbody>\n",
       "                <tr>\n",
       "                        <th id=\"T_ae54fe2c_446a_11eb_a58d_ac12032f50cflevel0_row0\" class=\"row_heading level0 row0\" >Rodriguez High School</th>\n",
       "                        <td id=\"T_ae54fe2c_446a_11eb_a58d_ac12032f50cfrow0_col0\" class=\"data row0 col0\" >District</td>\n",
       "                        <td id=\"T_ae54fe2c_446a_11eb_a58d_ac12032f50cfrow0_col1\" class=\"data row0 col1\" >3,999</td>\n",
       "                        <td id=\"T_ae54fe2c_446a_11eb_a58d_ac12032f50cfrow0_col2\" class=\"data row0 col2\" >$2,547,363</td>\n",
       "                        <td id=\"T_ae54fe2c_446a_11eb_a58d_ac12032f50cfrow0_col3\" class=\"data row0 col3\" >$637</td>\n",
       "                        <td id=\"T_ae54fe2c_446a_11eb_a58d_ac12032f50cfrow0_col4\" class=\"data row0 col4\" >76.842711</td>\n",
       "                        <td id=\"T_ae54fe2c_446a_11eb_a58d_ac12032f50cfrow0_col5\" class=\"data row0 col5\" >80.744686</td>\n",
       "                        <td id=\"T_ae54fe2c_446a_11eb_a58d_ac12032f50cfrow0_col6\" class=\"data row0 col6\" >66.366592</td>\n",
       "                        <td id=\"T_ae54fe2c_446a_11eb_a58d_ac12032f50cfrow0_col7\" class=\"data row0 col7\" >80.220055</td>\n",
       "                        <td id=\"T_ae54fe2c_446a_11eb_a58d_ac12032f50cfrow0_col8\" class=\"data row0 col8\" >52.988247</td>\n",
       "            </tr>\n",
       "            <tr>\n",
       "                        <th id=\"T_ae54fe2c_446a_11eb_a58d_ac12032f50cflevel0_row1\" class=\"row_heading level0 row1\" >Figueroa High School</th>\n",
       "                        <td id=\"T_ae54fe2c_446a_11eb_a58d_ac12032f50cfrow1_col0\" class=\"data row1 col0\" >District</td>\n",
       "                        <td id=\"T_ae54fe2c_446a_11eb_a58d_ac12032f50cfrow1_col1\" class=\"data row1 col1\" >2,949</td>\n",
       "                        <td id=\"T_ae54fe2c_446a_11eb_a58d_ac12032f50cfrow1_col2\" class=\"data row1 col2\" >$1,884,411</td>\n",
       "                        <td id=\"T_ae54fe2c_446a_11eb_a58d_ac12032f50cfrow1_col3\" class=\"data row1 col3\" >$639</td>\n",
       "                        <td id=\"T_ae54fe2c_446a_11eb_a58d_ac12032f50cfrow1_col4\" class=\"data row1 col4\" >76.711767</td>\n",
       "                        <td id=\"T_ae54fe2c_446a_11eb_a58d_ac12032f50cfrow1_col5\" class=\"data row1 col5\" >81.158020</td>\n",
       "                        <td id=\"T_ae54fe2c_446a_11eb_a58d_ac12032f50cfrow1_col6\" class=\"data row1 col6\" >65.988471</td>\n",
       "                        <td id=\"T_ae54fe2c_446a_11eb_a58d_ac12032f50cfrow1_col7\" class=\"data row1 col7\" >80.739234</td>\n",
       "                        <td id=\"T_ae54fe2c_446a_11eb_a58d_ac12032f50cfrow1_col8\" class=\"data row1 col8\" >53.204476</td>\n",
       "            </tr>\n",
       "            <tr>\n",
       "                        <th id=\"T_ae54fe2c_446a_11eb_a58d_ac12032f50cflevel0_row2\" class=\"row_heading level0 row2\" >Huang High School</th>\n",
       "                        <td id=\"T_ae54fe2c_446a_11eb_a58d_ac12032f50cfrow2_col0\" class=\"data row2 col0\" >District</td>\n",
       "                        <td id=\"T_ae54fe2c_446a_11eb_a58d_ac12032f50cfrow2_col1\" class=\"data row2 col1\" >2,917</td>\n",
       "                        <td id=\"T_ae54fe2c_446a_11eb_a58d_ac12032f50cfrow2_col2\" class=\"data row2 col2\" >$1,910,635</td>\n",
       "                        <td id=\"T_ae54fe2c_446a_11eb_a58d_ac12032f50cfrow2_col3\" class=\"data row2 col3\" >$655</td>\n",
       "                        <td id=\"T_ae54fe2c_446a_11eb_a58d_ac12032f50cfrow2_col4\" class=\"data row2 col4\" >76.629414</td>\n",
       "                        <td id=\"T_ae54fe2c_446a_11eb_a58d_ac12032f50cfrow2_col5\" class=\"data row2 col5\" >81.182722</td>\n",
       "                        <td id=\"T_ae54fe2c_446a_11eb_a58d_ac12032f50cfrow2_col6\" class=\"data row2 col6\" >65.683922</td>\n",
       "                        <td id=\"T_ae54fe2c_446a_11eb_a58d_ac12032f50cfrow2_col7\" class=\"data row2 col7\" >81.316421</td>\n",
       "                        <td id=\"T_ae54fe2c_446a_11eb_a58d_ac12032f50cfrow2_col8\" class=\"data row2 col8\" >53.513884</td>\n",
       "            </tr>\n",
       "            <tr>\n",
       "                        <th id=\"T_ae54fe2c_446a_11eb_a58d_ac12032f50cflevel0_row3\" class=\"row_heading level0 row3\" >Hernandez High School</th>\n",
       "                        <td id=\"T_ae54fe2c_446a_11eb_a58d_ac12032f50cfrow3_col0\" class=\"data row3 col0\" >District</td>\n",
       "                        <td id=\"T_ae54fe2c_446a_11eb_a58d_ac12032f50cfrow3_col1\" class=\"data row3 col1\" >4,635</td>\n",
       "                        <td id=\"T_ae54fe2c_446a_11eb_a58d_ac12032f50cfrow3_col2\" class=\"data row3 col2\" >$3,022,020</td>\n",
       "                        <td id=\"T_ae54fe2c_446a_11eb_a58d_ac12032f50cfrow3_col3\" class=\"data row3 col3\" >$652</td>\n",
       "                        <td id=\"T_ae54fe2c_446a_11eb_a58d_ac12032f50cfrow3_col4\" class=\"data row3 col4\" >77.289752</td>\n",
       "                        <td id=\"T_ae54fe2c_446a_11eb_a58d_ac12032f50cfrow3_col5\" class=\"data row3 col5\" >80.934412</td>\n",
       "                        <td id=\"T_ae54fe2c_446a_11eb_a58d_ac12032f50cfrow3_col6\" class=\"data row3 col6\" >66.752967</td>\n",
       "                        <td id=\"T_ae54fe2c_446a_11eb_a58d_ac12032f50cfrow3_col7\" class=\"data row3 col7\" >80.862999</td>\n",
       "                        <td id=\"T_ae54fe2c_446a_11eb_a58d_ac12032f50cfrow3_col8\" class=\"data row3 col8\" >53.527508</td>\n",
       "            </tr>\n",
       "            <tr>\n",
       "                        <th id=\"T_ae54fe2c_446a_11eb_a58d_ac12032f50cflevel0_row4\" class=\"row_heading level0 row4\" >Johnson High School</th>\n",
       "                        <td id=\"T_ae54fe2c_446a_11eb_a58d_ac12032f50cfrow4_col0\" class=\"data row4 col0\" >District</td>\n",
       "                        <td id=\"T_ae54fe2c_446a_11eb_a58d_ac12032f50cfrow4_col1\" class=\"data row4 col1\" >4,761</td>\n",
       "                        <td id=\"T_ae54fe2c_446a_11eb_a58d_ac12032f50cfrow4_col2\" class=\"data row4 col2\" >$3,094,650</td>\n",
       "                        <td id=\"T_ae54fe2c_446a_11eb_a58d_ac12032f50cfrow4_col3\" class=\"data row4 col3\" >$650</td>\n",
       "                        <td id=\"T_ae54fe2c_446a_11eb_a58d_ac12032f50cfrow4_col4\" class=\"data row4 col4\" >77.072464</td>\n",
       "                        <td id=\"T_ae54fe2c_446a_11eb_a58d_ac12032f50cfrow4_col5\" class=\"data row4 col5\" >80.966394</td>\n",
       "                        <td id=\"T_ae54fe2c_446a_11eb_a58d_ac12032f50cfrow4_col6\" class=\"data row4 col6\" >66.057551</td>\n",
       "                        <td id=\"T_ae54fe2c_446a_11eb_a58d_ac12032f50cfrow4_col7\" class=\"data row4 col7\" >81.222432</td>\n",
       "                        <td id=\"T_ae54fe2c_446a_11eb_a58d_ac12032f50cfrow4_col8\" class=\"data row4 col8\" >53.539172</td>\n",
       "            </tr>\n",
       "    </tbody></table>"
      ],
      "text/plain": [
       "<pandas.io.formats.style.Styler at 0x15668d65b00>"
      ]
     },
     "execution_count": 16,
     "metadata": {},
     "output_type": "execute_result"
    }
   ],
   "source": [
    "bottom_schools=school_summary_df.sort_values('% Overall Passing')\n",
    "bottom_schools.head().style.format({\"Total Students\": \"{:,.0f}\", \"Total School Budget\": \"${:,.0f}\", \"Per Student Budget\": \"${:,.0f}\"})"
   ]
  },
  {
   "cell_type": "markdown",
   "metadata": {
    "collapsed": true
   },
   "source": [
    "## Math Scores by Grade"
   ]
  },
  {
   "cell_type": "markdown",
   "metadata": {},
   "source": [
    "* Create a table that lists the average Reading Score for students of each grade level (9th, 10th, 11th, 12th) at each school.\n",
    "\n",
    "  * Create a pandas series for each grade. Hint: use a conditional statement.\n",
    "  \n",
    "  * Group each series by school\n",
    "  \n",
    "  * Combine the series into a dataframe\n",
    "  \n",
    "  * Optional: give the displayed data cleaner formatting"
   ]
  },
  {
   "cell_type": "code",
   "execution_count": null,
   "metadata": {},
   "outputs": [],
   "source": [
    "#Filter 'complete' dataframe by Grade\n",
    "g9_data=school_data_complete.loc[school_data_complete['grade'] == '9th']\n",
    "g10_data=school_data_complete.loc[school_data_complete['grade'] == '10th']\n",
    "g11_data=school_data_complete.loc[school_data_complete['grade'] == '11th']\n",
    "g12_data=school_data_complete.loc[school_data_complete['grade'] == '12th']"
   ]
  },
  {
   "cell_type": "code",
   "execution_count": null,
   "metadata": {},
   "outputs": [],
   "source": [
    "#Group each Grade's data by school name\n",
    "g9_grouped = g9_data.groupby(['school_name'])\n",
    "g10_grouped = g10_data.groupby(['school_name'])\n",
    "g11_grouped = g11_data.groupby(['school_name'])\n",
    "g12_grouped = g12_data.groupby(['school_name'])"
   ]
  },
  {
   "cell_type": "code",
   "execution_count": null,
   "metadata": {},
   "outputs": [],
   "source": [
    "#Calculate average math scores for each grade; grouped by school.\n",
    "g9_avg_math = g9_grouped['math_score'].mean()\n",
    "g10_avg_math = g10_grouped['math_score'].mean()\n",
    "g11_avg_math = g11_grouped['math_score'].mean()\n",
    "g12_avg_math = g12_grouped['math_score'].mean()"
   ]
  },
  {
   "cell_type": "code",
   "execution_count": null,
   "metadata": {},
   "outputs": [],
   "source": [
    "#Display dataframe of math scores\n",
    "grade_summary_math_df=pd.DataFrame({'9th': g9_avg_math,\n",
    "                               '10th': g10_avg_math,\n",
    "                               '11th': g11_avg_math,\n",
    "                               '12th': g12_avg_math})\n",
    "grade_summary_math_df"
   ]
  },
  {
   "cell_type": "markdown",
   "metadata": {},
   "source": [
    "## Reading Score by Grade "
   ]
  },
  {
   "cell_type": "markdown",
   "metadata": {},
   "source": [
    "* Perform the same operations as above for reading scores"
   ]
  },
  {
   "cell_type": "code",
   "execution_count": null,
   "metadata": {},
   "outputs": [],
   "source": [
    "#Calculate avreage reading score for each grade; grouped by school\n",
    "g9_avg_reading = g9_grouped['reading_score'].mean()\n",
    "g10_avg_reading = g10_grouped['reading_score'].mean()\n",
    "g11_avg_reading = g11_grouped['reading_score'].mean()\n",
    "g12_avg_reading = g12_grouped['reading_score'].mean()"
   ]
  },
  {
   "cell_type": "code",
   "execution_count": null,
   "metadata": {},
   "outputs": [],
   "source": [
    "#Display dataframe of reading scores\n",
    "grade_summary_reading_df=pd.DataFrame({'9th': g9_avg_reading,\n",
    "                               '10th': g10_avg_reading,\n",
    "                               '11th': g11_avg_reading,\n",
    "                               '12th': g12_avg_reading})\n",
    "grade_summary_reading_df"
   ]
  },
  {
   "cell_type": "markdown",
   "metadata": {},
   "source": [
    "## Scores by School Spending"
   ]
  },
  {
   "cell_type": "markdown",
   "metadata": {},
   "source": [
    "* Create a table that breaks down school performances based on average Spending Ranges (Per Student). Use 4 reasonable bins to group school spending. Include in the table each of the following:\n",
    "  * Average Math Score\n",
    "  * Average Reading Score\n",
    "  * % Passing Math\n",
    "  * % Passing Reading\n",
    "  * Overall Passing Rate (Average of the above two)"
   ]
  },
  {
   "cell_type": "code",
   "execution_count": null,
   "metadata": {},
   "outputs": [],
   "source": []
  },
  {
   "cell_type": "markdown",
   "metadata": {},
   "source": [
    "## Scores by School Size"
   ]
  },
  {
   "cell_type": "markdown",
   "metadata": {},
   "source": [
    "* Perform the same operations as above, based on school size."
   ]
  },
  {
   "cell_type": "code",
   "execution_count": null,
   "metadata": {
    "scrolled": true
   },
   "outputs": [],
   "source": []
  },
  {
   "cell_type": "markdown",
   "metadata": {},
   "source": [
    "## Scores by School Type"
   ]
  },
  {
   "cell_type": "markdown",
   "metadata": {},
   "source": [
    "* Perform the same operations as above, based on school type"
   ]
  },
  {
   "cell_type": "code",
   "execution_count": null,
   "metadata": {},
   "outputs": [],
   "source": [
    "#Group 'complete' dataframe by school type\n",
    "grouped_schooltype_df=school_data_complete.groupby(['type'])"
   ]
  },
  {
   "cell_type": "code",
   "execution_count": null,
   "metadata": {},
   "outputs": [],
   "source": [
    "#Calculate total students by school type\n",
    "schooltype_total_students=grouped_schooltype_df['type'].count()"
   ]
  },
  {
   "cell_type": "code",
   "execution_count": null,
   "metadata": {},
   "outputs": [],
   "source": [
    "#Calculate average math and reading scores by school type.\n",
    "schooltype_avg_math=grouped_schooltype_df['math_score'].mean()\n",
    "schooltype_avg_reading=grouped_schooltype_df['reading_score'].mean()"
   ]
  },
  {
   "cell_type": "code",
   "execution_count": null,
   "metadata": {},
   "outputs": [],
   "source": [
    "#Calculate percent passing Math, Reading, and Overall\n",
    "pm_schooltype=pass_math[\"type\"].value_counts()\n",
    "perc_pm_schooltype=(pm_schooltype/schooltype_total_students) * 100\n",
    "\n",
    "pr_schooltype=pass_reading[\"type\"].value_counts()\n",
    "perc_pr_schooltype=(pr_schooltype/schooltype_total_students) * 100\n",
    "\n",
    "po_schooltype=pass_overall[\"type\"].value_counts()\n",
    "perc_po_schooltype=(po_schooltype/schooltype_total_students) * 100"
   ]
  },
  {
   "cell_type": "code",
   "execution_count": null,
   "metadata": {},
   "outputs": [],
   "source": [
    "#Display dataframe of results by school type.\n",
    "school_summary_df=pd.DataFrame({'Average Math Score': schooltype_avg_math,\n",
    "                               'Average Reading Score': schooltype_avg_reading,\n",
    "                               '% Passing Math': perc_pm_schooltype,\n",
    "                               '% Passing Reading': perc_pr_schooltype,\n",
    "                               '% Overall Passing': perc_po_schooltype})\n",
    "school_summary_df"
   ]
  },
  {
   "cell_type": "code",
   "execution_count": null,
   "metadata": {},
   "outputs": [],
   "source": []
  }
 ],
 "metadata": {
  "anaconda-cloud": {},
  "kernel_info": {
   "name": "python3"
  },
  "kernelspec": {
   "display_name": "Python 3",
   "language": "python",
   "name": "python3"
  },
  "language_info": {
   "codemirror_mode": {
    "name": "ipython",
    "version": 3
   },
   "file_extension": ".py",
   "mimetype": "text/x-python",
   "name": "python",
   "nbconvert_exporter": "python",
   "pygments_lexer": "ipython3",
   "version": "3.6.10"
  },
  "latex_envs": {
   "LaTeX_envs_menu_present": true,
   "autoclose": false,
   "autocomplete": true,
   "bibliofile": "biblio.bib",
   "cite_by": "apalike",
   "current_citInitial": 1,
   "eqLabelWithNumbers": true,
   "eqNumInitial": 1,
   "hotkeys": {
    "equation": "Ctrl-E",
    "itemize": "Ctrl-I"
   },
   "labels_anchors": false,
   "latex_user_defs": false,
   "report_style_numbering": false,
   "user_envs_cfg": false
  },
  "nteract": {
   "version": "0.8.4"
  }
 },
 "nbformat": 4,
 "nbformat_minor": 1
}
